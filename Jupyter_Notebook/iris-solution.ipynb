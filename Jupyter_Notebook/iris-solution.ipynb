{
 "cells": [
  {
   "cell_type": "code",
   "execution_count": 1,
   "id": "3d23b1a6",
   "metadata": {
    "_cell_guid": "b84fc4e0-b9fe-4a9b-b1e2-9bc7013a81cb",
    "_uuid": "296dbfe5-f1de-41eb-90af-e2e7cc4291d8",
    "collapsed": false,
    "execution": {
     "iopub.execute_input": "2021-07-19T16:47:09.359560Z",
     "iopub.status.busy": "2021-07-19T16:47:09.358231Z",
     "iopub.status.idle": "2021-07-19T16:47:09.360138Z",
     "shell.execute_reply": "2021-07-19T16:47:09.358844Z",
     "shell.execute_reply.started": "2021-07-19T16:46:33.888113Z"
    },
    "executionInfo": {
     "elapsed": 359,
     "status": "ok",
     "timestamp": 1626705471602,
     "user": {
      "displayName": "Vishal Upare",
      "photoUrl": "https://lh3.googleusercontent.com/a-/AOh14GgoCnqugoir3d64IG6cP2RNp-dOG0Ci9o1v0smkrA=s64",
      "userId": "07603955287254541700"
     },
     "user_tz": -330
    },
    "id": "wE8yXHkJMmsq",
    "jupyter": {
     "outputs_hidden": false
    },
    "papermill": {
     "duration": 0.060067,
     "end_time": "2021-07-19T16:47:09.360309",
     "exception": false,
     "start_time": "2021-07-19T16:47:09.300242",
     "status": "completed"
    },
    "tags": []
   },
   "outputs": [],
   "source": [
    "# importing basic library\n",
    "import numpy as np\n",
    "import pandas as pd"
   ]
  },
  {
   "cell_type": "code",
   "execution_count": 2,
   "id": "a58438f7",
   "metadata": {
    "_cell_guid": "4ee84041-d555-4a04-a229-2a427619dbc7",
    "_uuid": "2c2fb785-1bae-4339-b6de-a63dc02a0277",
    "collapsed": false,
    "execution": {
     "iopub.execute_input": "2021-07-19T16:47:09.426166Z",
     "iopub.status.busy": "2021-07-19T16:47:09.425494Z",
     "iopub.status.idle": "2021-07-19T16:47:09.529780Z",
     "shell.execute_reply": "2021-07-19T16:47:09.529166Z",
     "shell.execute_reply.started": "2021-07-19T16:46:33.902391Z"
    },
    "executionInfo": {
     "elapsed": 351,
     "status": "ok",
     "timestamp": 1626705522007,
     "user": {
      "displayName": "Vishal Upare",
      "photoUrl": "https://lh3.googleusercontent.com/a-/AOh14GgoCnqugoir3d64IG6cP2RNp-dOG0Ci9o1v0smkrA=s64",
      "userId": "07603955287254541700"
     },
     "user_tz": -330
    },
    "id": "DULx4pecM6GI",
    "jupyter": {
     "outputs_hidden": false
    },
    "papermill": {
     "duration": 0.139512,
     "end_time": "2021-07-19T16:47:09.529924",
     "exception": false,
     "start_time": "2021-07-19T16:47:09.390412",
     "status": "completed"
    },
    "tags": []
   },
   "outputs": [],
   "source": [
    "iris= pd.read_csv(r\"../input/iris-data/iris.csv\", header=0)"
   ]
  },
  {
   "cell_type": "code",
   "execution_count": 3,
   "id": "5cdf76c5",
   "metadata": {
    "_cell_guid": "0f7b894b-0468-42d2-96a4-39e9cefec82d",
    "_uuid": "1f10a272-846f-432e-ac75-f2c1ca7ad753",
    "collapsed": false,
    "execution": {
     "iopub.execute_input": "2021-07-19T16:47:09.602841Z",
     "iopub.status.busy": "2021-07-19T16:47:09.601879Z",
     "iopub.status.idle": "2021-07-19T16:47:09.622613Z",
     "shell.execute_reply": "2021-07-19T16:47:09.623106Z",
     "shell.execute_reply.started": "2021-07-19T16:46:34.014472Z"
    },
    "executionInfo": {
     "elapsed": 376,
     "status": "ok",
     "timestamp": 1626705541791,
     "user": {
      "displayName": "Vishal Upare",
      "photoUrl": "https://lh3.googleusercontent.com/a-/AOh14GgoCnqugoir3d64IG6cP2RNp-dOG0Ci9o1v0smkrA=s64",
      "userId": "07603955287254541700"
     },
     "user_tz": -330
    },
    "id": "t8whSd8XNGmc",
    "jupyter": {
     "outputs_hidden": false
    },
    "outputId": "fbb3c2b2-d959-415e-bfcc-2fa7966cc40d",
    "papermill": {
     "duration": 0.0639,
     "end_time": "2021-07-19T16:47:09.623273",
     "exception": false,
     "start_time": "2021-07-19T16:47:09.559373",
     "status": "completed"
    },
    "tags": []
   },
   "outputs": [
    {
     "data": {
      "text/html": [
       "<div>\n",
       "<style scoped>\n",
       "    .dataframe tbody tr th:only-of-type {\n",
       "        vertical-align: middle;\n",
       "    }\n",
       "\n",
       "    .dataframe tbody tr th {\n",
       "        vertical-align: top;\n",
       "    }\n",
       "\n",
       "    .dataframe thead th {\n",
       "        text-align: right;\n",
       "    }\n",
       "</style>\n",
       "<table border=\"1\" class=\"dataframe\">\n",
       "  <thead>\n",
       "    <tr style=\"text-align: right;\">\n",
       "      <th></th>\n",
       "      <th>sepal_length</th>\n",
       "      <th>sepal_width</th>\n",
       "      <th>petal _length</th>\n",
       "      <th>petal_width</th>\n",
       "      <th>target</th>\n",
       "    </tr>\n",
       "  </thead>\n",
       "  <tbody>\n",
       "    <tr>\n",
       "      <th>0</th>\n",
       "      <td>5.1</td>\n",
       "      <td>3.5</td>\n",
       "      <td>1.4</td>\n",
       "      <td>0.2</td>\n",
       "      <td>0</td>\n",
       "    </tr>\n",
       "    <tr>\n",
       "      <th>1</th>\n",
       "      <td>4.9</td>\n",
       "      <td>3.0</td>\n",
       "      <td>1.4</td>\n",
       "      <td>0.2</td>\n",
       "      <td>0</td>\n",
       "    </tr>\n",
       "    <tr>\n",
       "      <th>2</th>\n",
       "      <td>4.7</td>\n",
       "      <td>3.2</td>\n",
       "      <td>1.3</td>\n",
       "      <td>0.2</td>\n",
       "      <td>0</td>\n",
       "    </tr>\n",
       "    <tr>\n",
       "      <th>3</th>\n",
       "      <td>4.6</td>\n",
       "      <td>3.1</td>\n",
       "      <td>1.5</td>\n",
       "      <td>0.2</td>\n",
       "      <td>0</td>\n",
       "    </tr>\n",
       "    <tr>\n",
       "      <th>4</th>\n",
       "      <td>5.0</td>\n",
       "      <td>3.6</td>\n",
       "      <td>1.4</td>\n",
       "      <td>0.2</td>\n",
       "      <td>0</td>\n",
       "    </tr>\n",
       "  </tbody>\n",
       "</table>\n",
       "</div>"
      ],
      "text/plain": [
       "   sepal_length  sepal_width  petal _length  petal_width  target\n",
       "0           5.1          3.5            1.4          0.2       0\n",
       "1           4.9          3.0            1.4          0.2       0\n",
       "2           4.7          3.2            1.3          0.2       0\n",
       "3           4.6          3.1            1.5          0.2       0\n",
       "4           5.0          3.6            1.4          0.2       0"
      ]
     },
     "execution_count": 3,
     "metadata": {},
     "output_type": "execute_result"
    }
   ],
   "source": [
    "iris.head()"
   ]
  },
  {
   "cell_type": "code",
   "execution_count": 4,
   "id": "47b7ebb3",
   "metadata": {
    "_cell_guid": "c6b2ac19-433b-4032-b429-a5ba4e727767",
    "_uuid": "7109be13-892b-409f-96b2-12d4e44a33fe",
    "collapsed": false,
    "execution": {
     "iopub.execute_input": "2021-07-19T16:47:09.687858Z",
     "iopub.status.busy": "2021-07-19T16:47:09.686889Z",
     "iopub.status.idle": "2021-07-19T16:47:09.706382Z",
     "shell.execute_reply": "2021-07-19T16:47:09.706874Z",
     "shell.execute_reply.started": "2021-07-19T16:46:34.036022Z"
    },
    "executionInfo": {
     "elapsed": 374,
     "status": "ok",
     "timestamp": 1626705565253,
     "user": {
      "displayName": "Vishal Upare",
      "photoUrl": "https://lh3.googleusercontent.com/a-/AOh14GgoCnqugoir3d64IG6cP2RNp-dOG0Ci9o1v0smkrA=s64",
      "userId": "07603955287254541700"
     },
     "user_tz": -330
    },
    "id": "AJqlOhMkNLZ_",
    "jupyter": {
     "outputs_hidden": false
    },
    "outputId": "e0e7db12-6d98-4981-d42a-75022dc7c539",
    "papermill": {
     "duration": 0.05305,
     "end_time": "2021-07-19T16:47:09.707051",
     "exception": false,
     "start_time": "2021-07-19T16:47:09.654001",
     "status": "completed"
    },
    "tags": []
   },
   "outputs": [
    {
     "name": "stdout",
     "output_type": "stream",
     "text": [
      "<class 'pandas.core.frame.DataFrame'>\n",
      "RangeIndex: 150 entries, 0 to 149\n",
      "Data columns (total 5 columns):\n",
      " #   Column         Non-Null Count  Dtype  \n",
      "---  ------         --------------  -----  \n",
      " 0   sepal_length   150 non-null    float64\n",
      " 1   sepal_width    150 non-null    float64\n",
      " 2   petal _length  150 non-null    float64\n",
      " 3   petal_width    150 non-null    float64\n",
      " 4   target         150 non-null    int64  \n",
      "dtypes: float64(4), int64(1)\n",
      "memory usage: 6.0 KB\n"
     ]
    }
   ],
   "source": [
    "iris.info()"
   ]
  },
  {
   "cell_type": "markdown",
   "id": "f1870e2a",
   "metadata": {
    "_cell_guid": "b8d12c9c-84a1-43c1-9a88-c2329479d107",
    "_uuid": "ba960bc3-b664-4245-abcb-46dee9f9bf44",
    "papermill": {
     "duration": 0.030354,
     "end_time": "2021-07-19T16:47:09.767812",
     "exception": false,
     "start_time": "2021-07-19T16:47:09.737458",
     "status": "completed"
    },
    "tags": []
   },
   "source": [
    "#### Data Visualization"
   ]
  },
  {
   "cell_type": "code",
   "execution_count": 5,
   "id": "fcc88101",
   "metadata": {
    "_cell_guid": "281f1555-7177-4060-a469-baeb616c5036",
    "_uuid": "370d8aea-6c5f-42c0-af65-5021158c51ee",
    "collapsed": false,
    "execution": {
     "iopub.execute_input": "2021-07-19T16:47:09.834248Z",
     "iopub.status.busy": "2021-07-19T16:47:09.833290Z",
     "iopub.status.idle": "2021-07-19T16:47:10.757469Z",
     "shell.execute_reply": "2021-07-19T16:47:10.757975Z",
     "shell.execute_reply.started": "2021-07-19T16:46:34.054078Z"
    },
    "executionInfo": {
     "elapsed": 1130,
     "status": "ok",
     "timestamp": 1626705615638,
     "user": {
      "displayName": "Vishal Upare",
      "photoUrl": "https://lh3.googleusercontent.com/a-/AOh14GgoCnqugoir3d64IG6cP2RNp-dOG0Ci9o1v0smkrA=s64",
      "userId": "07603955287254541700"
     },
     "user_tz": -330
    },
    "id": "Fdj6TX3FNRIW",
    "jupyter": {
     "outputs_hidden": false
    },
    "papermill": {
     "duration": 0.958344,
     "end_time": "2021-07-19T16:47:10.758169",
     "exception": false,
     "start_time": "2021-07-19T16:47:09.799825",
     "status": "completed"
    },
    "tags": []
   },
   "outputs": [],
   "source": [
    "import matplotlib.pyplot as plt\n",
    "import seaborn as sns"
   ]
  },
  {
   "cell_type": "code",
   "execution_count": 6,
   "id": "b28d8cdd",
   "metadata": {
    "_cell_guid": "a082ecf1-e56b-476c-9c80-e47832492c7e",
    "_uuid": "c48985db-bb05-4120-ab74-ffc95f3a069c",
    "collapsed": false,
    "execution": {
     "iopub.execute_input": "2021-07-19T16:47:10.823142Z",
     "iopub.status.busy": "2021-07-19T16:47:10.822157Z",
     "iopub.status.idle": "2021-07-19T16:47:11.480066Z",
     "shell.execute_reply": "2021-07-19T16:47:11.479560Z",
     "shell.execute_reply.started": "2021-07-19T16:46:34.394048Z"
    },
    "executionInfo": {
     "elapsed": 1294,
     "status": "ok",
     "timestamp": 1626705691040,
     "user": {
      "displayName": "Vishal Upare",
      "photoUrl": "https://lh3.googleusercontent.com/a-/AOh14GgoCnqugoir3d64IG6cP2RNp-dOG0Ci9o1v0smkrA=s64",
      "userId": "07603955287254541700"
     },
     "user_tz": -330
    },
    "id": "ag5aoTF3NdM0",
    "jupyter": {
     "outputs_hidden": false
    },
    "outputId": "5d1d2cec-9960-49f3-8d61-95b61ae1d5e8",
    "papermill": {
     "duration": 0.69139,
     "end_time": "2021-07-19T16:47:11.480207",
     "exception": false,
     "start_time": "2021-07-19T16:47:10.788817",
     "status": "completed"
    },
    "tags": []
   },
   "outputs": [
    {
     "data": {
      "image/png": "[encoded data removed]",
      "text/plain": [
       "<Figure size 432x288 with 1 Axes>"
      ]
     },
     "metadata": {
      "needs_background": "light"
     },
     "output_type": "display_data"
    },
    {
     "data": {
      "image/png": "[encoded data removed]",
      "text/plain": [
       "<Figure size 432x288 with 1 Axes>"
      ]
     },
     "metadata": {
      "needs_background": "light"
     },
     "output_type": "display_data"
    },
    {
     "data": {
      "image/png": "[encoded data removed]",
      "text/plain": [
       "<Figure size 432x288 with 1 Axes>"
      ]
     },
     "metadata": {
      "needs_background": "light"
     },
     "output_type": "display_data"
    },
    {
     "data": {
      "image/png": "[encoded data removed]",
      "text/plain": [
       "<Figure size 432x288 with 1 Axes>"
      ]
     },
     "metadata": {
      "needs_background": "light"
     },
     "output_type": "display_data"
    },
    {
     "data": {
      "image/png": "[encoded data removed]",
      "text/plain": [
       "<Figure size 432x288 with 1 Axes>"
      ]
     },
     "metadata": {
      "needs_background": "light"
     },
     "output_type": "display_data"
    }
   ],
   "source": [
    "# Checking outliers:\n",
    "for i in iris.columns:\n",
    "  iris.boxplot(column=i)\n",
    "  plt.show()"
   ]
  },
  {
   "cell_type": "code",
   "execution_count": 7,
   "id": "a84282b9",
   "metadata": {
    "_cell_guid": "6a074f7f-a8ef-420d-8348-ee45b2ffdcf0",
    "_uuid": "99476fe0-fddc-42d2-be61-5d6c6ee4ac4f",
    "collapsed": false,
    "execution": {
     "iopub.execute_input": "2021-07-19T16:47:11.575510Z",
     "iopub.status.busy": "2021-07-19T16:47:11.569381Z",
     "iopub.status.idle": "2021-07-19T16:47:16.647713Z",
     "shell.execute_reply": "2021-07-19T16:47:16.648178Z",
     "shell.execute_reply.started": "2021-07-19T16:46:35.079769Z"
    },
    "executionInfo": {
     "elapsed": 11525,
     "status": "ok",
     "timestamp": 1626705737971,
     "user": {
      "displayName": "Vishal Upare",
      "photoUrl": "https://lh3.googleusercontent.com/a-/AOh14GgoCnqugoir3d64IG6cP2RNp-dOG0Ci9o1v0smkrA=s64",
      "userId": "07603955287254541700"
     },
     "user_tz": -330
    },
    "id": "81g8sogJNhgU",
    "jupyter": {
     "outputs_hidden": false
    },
    "outputId": "5761576a-745d-4074-d1e1-94bdb3affc5b",
    "papermill": {
     "duration": 5.134335,
     "end_time": "2021-07-19T16:47:16.648377",
     "exception": false,
     "start_time": "2021-07-19T16:47:11.514042",
     "status": "completed"
    },
    "tags": []
   },
   "outputs": [
    {
     "data": {
      "text/plain": [
       "<seaborn.axisgrid.PairGrid at 0x7f45b59a6590>"
      ]
     },
     "execution_count": 7,
     "metadata": {},
     "output_type": "execute_result"
    },
    {
     "data": {
      "image/png": "[encoded data removed]",
      "text/plain": [
       "<Figure size 900x900 with 30 Axes>"
      ]
     },
     "metadata": {
      "needs_background": "light"
     },
     "output_type": "display_data"
    }
   ],
   "source": [
    "sns.pairplot(data=iris)"
   ]
  },
  {
   "cell_type": "code",
   "execution_count": 8,
   "id": "6360fff8",
   "metadata": {
    "_cell_guid": "2a4fcd34-69a3-4f98-b795-1afd2c886de9",
    "_uuid": "20711a4b-e55c-452c-b0ea-ae7ad2de83bd",
    "collapsed": false,
    "execution": {
     "iopub.execute_input": "2021-07-19T16:47:16.726455Z",
     "iopub.status.busy": "2021-07-19T16:47:16.725402Z",
     "iopub.status.idle": "2021-07-19T16:47:16.731736Z",
     "shell.execute_reply": "2021-07-19T16:47:16.732187Z",
     "shell.execute_reply.started": "2021-07-19T16:46:40.387428Z"
    },
    "executionInfo": {
     "elapsed": 370,
     "status": "ok",
     "timestamp": 1626706300660,
     "user": {
      "displayName": "Vishal Upare",
      "photoUrl": "https://lh3.googleusercontent.com/a-/AOh14GgoCnqugoir3d64IG6cP2RNp-dOG0Ci9o1v0smkrA=s64",
      "userId": "07603955287254541700"
     },
     "user_tz": -330
    },
    "id": "N0KdE5UwN18S",
    "jupyter": {
     "outputs_hidden": false
    },
    "outputId": "e79061ae-3909-465b-837a-6f2d38ac1186",
    "papermill": {
     "duration": 0.046957,
     "end_time": "2021-07-19T16:47:16.732382",
     "exception": false,
     "start_time": "2021-07-19T16:47:16.685425",
     "status": "completed"
    },
    "tags": []
   },
   "outputs": [
    {
     "data": {
      "text/plain": [
       "Index(['sepal_length', 'sepal_width', 'petal _length', 'petal_width',\n",
       "       'target'],\n",
       "      dtype='object')"
      ]
     },
     "execution_count": 8,
     "metadata": {},
     "output_type": "execute_result"
    }
   ],
   "source": [
    "iris.columns"
   ]
  },
  {
   "cell_type": "code",
   "execution_count": 9,
   "id": "021bf627",
   "metadata": {
    "_cell_guid": "0d3c1212-1670-449b-8a5e-e42983de7b07",
    "_uuid": "9e9775b5-0dd0-4ac4-b80d-fe1c6fe37083",
    "collapsed": false,
    "execution": {
     "iopub.execute_input": "2021-07-19T16:47:16.810299Z",
     "iopub.status.busy": "2021-07-19T16:47:16.809373Z",
     "iopub.status.idle": "2021-07-19T16:47:17.179587Z",
     "shell.execute_reply": "2021-07-19T16:47:17.180094Z",
     "shell.execute_reply.started": "2021-07-19T16:46:40.395178Z"
    },
    "executionInfo": {
     "elapsed": 1341,
     "status": "ok",
     "timestamp": 1626706745031,
     "user": {
      "displayName": "Vishal Upare",
      "photoUrl": "https://lh3.googleusercontent.com/a-/AOh14GgoCnqugoir3d64IG6cP2RNp-dOG0Ci9o1v0smkrA=s64",
      "userId": "07603955287254541700"
     },
     "user_tz": -330
    },
    "id": "sV5Bi13TOkpm",
    "jupyter": {
     "outputs_hidden": false
    },
    "outputId": "95a905b8-c266-4b79-ed1f-42ecba572343",
    "papermill": {
     "duration": 0.410842,
     "end_time": "2021-07-19T16:47:17.180262",
     "exception": false,
     "start_time": "2021-07-19T16:47:16.769420",
     "status": "completed"
    },
    "tags": []
   },
   "outputs": [
    {
     "data": {
      "text/plain": [
       "<seaborn.axisgrid.FacetGrid at 0x7f45b2ad81d0>"
      ]
     },
     "execution_count": 9,
     "metadata": {},
     "output_type": "execute_result"
    },
    {
     "data": {
      "image/png": "[encoded data removed]",
      "text/plain": [
       "<Figure size 360x360 with 1 Axes>"
      ]
     },
     "metadata": {
      "needs_background": "light"
     },
     "output_type": "display_data"
    }
   ],
   "source": [
    "sns.lmplot(data=iris, x=\"sepal_length\",y=\"petal _length\")"
   ]
  },
  {
   "cell_type": "code",
   "execution_count": 10,
   "id": "1ae9e56d",
   "metadata": {
    "_cell_guid": "afe0386e-1f6f-42d3-bc97-7847dfbafdb2",
    "_uuid": "ba6dd5ac-7615-4914-bd6a-c04b6bc7db89",
    "collapsed": false,
    "execution": {
     "iopub.execute_input": "2021-07-19T16:47:17.261070Z",
     "iopub.status.busy": "2021-07-19T16:47:17.260104Z",
     "iopub.status.idle": "2021-07-19T16:47:18.019303Z",
     "shell.execute_reply": "2021-07-19T16:47:18.019801Z",
     "shell.execute_reply.started": "2021-07-19T16:46:40.800894Z"
    },
    "executionInfo": {
     "elapsed": 1374,
     "status": "ok",
     "timestamp": 1626706752465,
     "user": {
      "displayName": "Vishal Upare",
      "photoUrl": "https://lh3.googleusercontent.com/a-/AOh14GgoCnqugoir3d64IG6cP2RNp-dOG0Ci9o1v0smkrA=s64",
      "userId": "07603955287254541700"
     },
     "user_tz": -330
    },
    "id": "fuvFrZHTRyKK",
    "jupyter": {
     "outputs_hidden": false
    },
    "outputId": "94fa1191-576a-4f19-f1e9-de9d59a19787",
    "papermill": {
     "duration": 0.801266,
     "end_time": "2021-07-19T16:47:18.019977",
     "exception": false,
     "start_time": "2021-07-19T16:47:17.218711",
     "status": "completed"
    },
    "tags": []
   },
   "outputs": [
    {
     "data": {
      "text/plain": [
       "<seaborn.axisgrid.FacetGrid at 0x7f45b299d910>"
      ]
     },
     "execution_count": 10,
     "metadata": {},
     "output_type": "execute_result"
    },
    {
     "data": {
      "image/png": "[encoded data removed]",
      "text/plain": [
       "<Figure size 402.375x360 with 1 Axes>"
      ]
     },
     "metadata": {
      "needs_background": "light"
     },
     "output_type": "display_data"
    }
   ],
   "source": [
    "sns.lmplot(data=iris, x=\"sepal_length\",y=\"petal _length\", hue=\"target\")"
   ]
  },
  {
   "cell_type": "code",
   "execution_count": 11,
   "id": "3bece589",
   "metadata": {
    "_cell_guid": "921b6048-268d-420e-a19c-94a82883e60d",
    "_uuid": "bf6722ed-a5ef-40a1-a584-140ad0ea296c",
    "collapsed": false,
    "execution": {
     "iopub.execute_input": "2021-07-19T16:47:18.105407Z",
     "iopub.status.busy": "2021-07-19T16:47:18.104427Z",
     "iopub.status.idle": "2021-07-19T16:47:18.878051Z",
     "shell.execute_reply": "2021-07-19T16:47:18.878520Z",
     "shell.execute_reply.started": "2021-07-19T16:46:41.580630Z"
    },
    "executionInfo": {
     "elapsed": 1110,
     "status": "ok",
     "timestamp": 1626706711549,
     "user": {
      "displayName": "Vishal Upare",
      "photoUrl": "https://lh3.googleusercontent.com/a-/AOh14GgoCnqugoir3d64IG6cP2RNp-dOG0Ci9o1v0smkrA=s64",
      "userId": "07603955287254541700"
     },
     "user_tz": -330
    },
    "id": "RxGdWgylQVil",
    "jupyter": {
     "outputs_hidden": false
    },
    "outputId": "bc9f46db-b9f4-4e24-cdfd-3c637fae4321",
    "papermill": {
     "duration": 0.818237,
     "end_time": "2021-07-19T16:47:18.878693",
     "exception": false,
     "start_time": "2021-07-19T16:47:18.060456",
     "status": "completed"
    },
    "tags": []
   },
   "outputs": [
    {
     "data": {
      "text/plain": [
       "<seaborn.axisgrid.FacetGrid at 0x7f45b0e31c50>"
      ]
     },
     "execution_count": 11,
     "metadata": {},
     "output_type": "execute_result"
    },
    {
     "data": {
      "image/png": "[encoded data removed]",
      "text/plain": [
       "<Figure size 402.375x360 with 1 Axes>"
      ]
     },
     "metadata": {
      "needs_background": "light"
     },
     "output_type": "display_data"
    }
   ],
   "source": [
    "sns.lmplot(data=iris, x=\"sepal_width\", y=\"petal_width\", hue=\"target\")"
   ]
  },
  {
   "cell_type": "code",
   "execution_count": 12,
   "id": "8ace3968",
   "metadata": {
    "_cell_guid": "4bf07eaa-55ab-4bcb-a3e5-cfbd4e806102",
    "_uuid": "0ef2958f-729a-4176-92cd-c29c2af2b016",
    "collapsed": false,
    "execution": {
     "iopub.execute_input": "2021-07-19T16:47:18.966266Z",
     "iopub.status.busy": "2021-07-19T16:47:18.965333Z",
     "iopub.status.idle": "2021-07-19T16:47:19.784270Z",
     "shell.execute_reply": "2021-07-19T16:47:19.784764Z",
     "shell.execute_reply.started": "2021-07-19T16:46:42.352118Z"
    },
    "executionInfo": {
     "elapsed": 1344,
     "status": "ok",
     "timestamp": 1626706927428,
     "user": {
      "displayName": "Vishal Upare",
      "photoUrl": "https://lh3.googleusercontent.com/a-/AOh14GgoCnqugoir3d64IG6cP2RNp-dOG0Ci9o1v0smkrA=s64",
      "userId": "07603955287254541700"
     },
     "user_tz": -330
    },
    "id": "DEjrvONCRi92",
    "jupyter": {
     "outputs_hidden": false
    },
    "outputId": "f107ecde-882d-4146-a4c2-5183c7cbdcf6",
    "papermill": {
     "duration": 0.864247,
     "end_time": "2021-07-19T16:47:19.784943",
     "exception": false,
     "start_time": "2021-07-19T16:47:18.920696",
     "status": "completed"
    },
    "tags": []
   },
   "outputs": [
    {
     "data": {
      "image/png": "[encoded data removed]",
      "text/plain": [
       "<Figure size 432x288 with 1 Axes>"
      ]
     },
     "metadata": {
      "needs_background": "light"
     },
     "output_type": "display_data"
    },
    {
     "data": {
      "image/png": "[encoded data removed]",
      "text/plain": [
       "<Figure size 432x288 with 1 Axes>"
      ]
     },
     "metadata": {
      "needs_background": "light"
     },
     "output_type": "display_data"
    },
    {
     "data": {
      "image/png": "[encoded data removed]",
      "text/plain": [
       "<Figure size 432x288 with 1 Axes>"
      ]
     },
     "metadata": {
      "needs_background": "light"
     },
     "output_type": "display_data"
    },
    {
     "data": {
      "image/png": "[encoded data removed]",
      "text/plain": [
       "<Figure size 432x288 with 1 Axes>"
      ]
     },
     "metadata": {
      "needs_background": "light"
     },
     "output_type": "display_data"
    },
    {
     "data": {
      "image/png": "[encoded data removed]",
      "text/plain": [
       "<Figure size 432x288 with 1 Axes>"
      ]
     },
     "metadata": {
      "needs_background": "light"
     },
     "output_type": "display_data"
    }
   ],
   "source": [
    "for i in iris.columns:\n",
    "  sns.histplot(data=iris, x=i)\n",
    "  plt.show()"
   ]
  },
  {
   "cell_type": "code",
   "execution_count": 13,
   "id": "ab9a1b80",
   "metadata": {
    "_cell_guid": "0cbe4cc5-cf0b-47eb-946e-96ccb9d19350",
    "_uuid": "5fdca19e-78bf-4ad5-95ff-07b0804c4694",
    "collapsed": false,
    "execution": {
     "iopub.execute_input": "2021-07-19T16:47:19.879387Z",
     "iopub.status.busy": "2021-07-19T16:47:19.878442Z",
     "iopub.status.idle": "2021-07-19T16:47:19.884370Z",
     "shell.execute_reply": "2021-07-19T16:47:19.884829Z",
     "shell.execute_reply.started": "2021-07-19T16:46:43.211683Z"
    },
    "executionInfo": {
     "elapsed": 360,
     "status": "ok",
     "timestamp": 1626707332086,
     "user": {
      "displayName": "Vishal Upare",
      "photoUrl": "https://lh3.googleusercontent.com/a-/AOh14GgoCnqugoir3d64IG6cP2RNp-dOG0Ci9o1v0smkrA=s64",
      "userId": "07603955287254541700"
     },
     "user_tz": -330
    },
    "id": "D4RYqoAATIEs",
    "jupyter": {
     "outputs_hidden": false
    },
    "outputId": "6fb29b96-cfae-4cbb-fbcf-c05ae5e52df9",
    "papermill": {
     "duration": 0.055093,
     "end_time": "2021-07-19T16:47:19.885002",
     "exception": false,
     "start_time": "2021-07-19T16:47:19.829909",
     "status": "completed"
    },
    "tags": []
   },
   "outputs": [
    {
     "name": "stdout",
     "output_type": "stream",
     "text": [
      "(150, 4) (150,)\n"
     ]
    }
   ],
   "source": [
    "X=iris.iloc[:,:-1]\n",
    "Y=iris[\"target\"]\n",
    "print(X.shape, Y.shape)"
   ]
  },
  {
   "cell_type": "code",
   "execution_count": 14,
   "id": "ba871c3a",
   "metadata": {
    "_cell_guid": "797e2dc3-bba2-46b3-8dea-c1b81e957e0b",
    "_uuid": "7b7e178c-f89b-44c5-833a-bca557ff030f",
    "collapsed": false,
    "execution": {
     "iopub.execute_input": "2021-07-19T16:47:19.980864Z",
     "iopub.status.busy": "2021-07-19T16:47:19.979967Z",
     "iopub.status.idle": "2021-07-19T16:47:20.109642Z",
     "shell.execute_reply": "2021-07-19T16:47:20.109042Z",
     "shell.execute_reply.started": "2021-07-19T16:46:43.218746Z"
    },
    "jupyter": {
     "outputs_hidden": false
    },
    "papermill": {
     "duration": 0.179441,
     "end_time": "2021-07-19T16:47:20.109812",
     "exception": false,
     "start_time": "2021-07-19T16:47:19.930371",
     "status": "completed"
    },
    "tags": []
   },
   "outputs": [],
   "source": [
    "from sklearn.preprocessing import StandardScaler"
   ]
  },
  {
   "cell_type": "code",
   "execution_count": 15,
   "id": "91214348",
   "metadata": {
    "_cell_guid": "3c752623-4925-4e88-90c2-342e2d1bf89a",
    "_uuid": "5325b754-4910-4b24-ad91-05482a9891d4",
    "collapsed": false,
    "execution": {
     "iopub.execute_input": "2021-07-19T16:47:20.214724Z",
     "iopub.status.busy": "2021-07-19T16:47:20.209573Z",
     "iopub.status.idle": "2021-07-19T16:47:20.223376Z",
     "shell.execute_reply": "2021-07-19T16:47:20.223914Z",
     "shell.execute_reply.started": "2021-07-19T16:46:43.272111Z"
    },
    "executionInfo": {
     "elapsed": 521,
     "status": "ok",
     "timestamp": 1626707518399,
     "user": {
      "displayName": "Vishal Upare",
      "photoUrl": "https://lh3.googleusercontent.com/a-/AOh14GgoCnqugoir3d64IG6cP2RNp-dOG0Ci9o1v0smkrA=s64",
      "userId": "07603955287254541700"
     },
     "user_tz": -330
    },
    "id": "2xiU-TilUX4b",
    "jupyter": {
     "outputs_hidden": false
    },
    "outputId": "2dcc2532-84ba-4350-efe6-b1ae16ef5963",
    "papermill": {
     "duration": 0.068903,
     "end_time": "2021-07-19T16:47:20.224079",
     "exception": false,
     "start_time": "2021-07-19T16:47:20.155176",
     "status": "completed"
    },
    "tags": []
   },
   "outputs": [
    {
     "name": "stdout",
     "output_type": "stream",
     "text": [
      "[[-9.00681170e-01  1.01900435e+00 -1.34022653e+00 -1.31544430e+00]\n",
      " [-1.14301691e+00 -1.31979479e-01 -1.34022653e+00 -1.31544430e+00]\n",
      " [-1.38535265e+00  3.28414053e-01 -1.39706395e+00 -1.31544430e+00]\n",
      " [-1.50652052e+00  9.82172869e-02 -1.28338910e+00 -1.31544430e+00]\n",
      " [-1.02184904e+00  1.24920112e+00 -1.34022653e+00 -1.31544430e+00]\n",
      " [-5.37177559e-01  1.93979142e+00 -1.16971425e+00 -1.05217993e+00]\n",
      " [-1.50652052e+00  7.88807586e-01 -1.34022653e+00 -1.18381211e+00]\n",
      " [-1.02184904e+00  7.88807586e-01 -1.28338910e+00 -1.31544430e+00]\n",
      " [-1.74885626e+00 -3.62176246e-01 -1.34022653e+00 -1.31544430e+00]\n",
      " [-1.14301691e+00  9.82172869e-02 -1.28338910e+00 -1.44707648e+00]\n",
      " [-5.37177559e-01  1.47939788e+00 -1.28338910e+00 -1.31544430e+00]\n",
      " [-1.26418478e+00  7.88807586e-01 -1.22655167e+00 -1.31544430e+00]\n",
      " [-1.26418478e+00 -1.31979479e-01 -1.34022653e+00 -1.44707648e+00]\n",
      " [-1.87002413e+00 -1.31979479e-01 -1.51073881e+00 -1.44707648e+00]\n",
      " [-5.25060772e-02  2.16998818e+00 -1.45390138e+00 -1.31544430e+00]\n",
      " [-1.73673948e-01  3.09077525e+00 -1.28338910e+00 -1.05217993e+00]\n",
      " [-5.37177559e-01  1.93979142e+00 -1.39706395e+00 -1.05217993e+00]\n",
      " [-9.00681170e-01  1.01900435e+00 -1.34022653e+00 -1.18381211e+00]\n",
      " [-1.73673948e-01  1.70959465e+00 -1.16971425e+00 -1.18381211e+00]\n",
      " [-9.00681170e-01  1.70959465e+00 -1.28338910e+00 -1.18381211e+00]\n",
      " [-5.37177559e-01  7.88807586e-01 -1.16971425e+00 -1.31544430e+00]\n",
      " [-9.00681170e-01  1.47939788e+00 -1.28338910e+00 -1.05217993e+00]\n",
      " [-1.50652052e+00  1.24920112e+00 -1.56757623e+00 -1.31544430e+00]\n",
      " [-9.00681170e-01  5.58610819e-01 -1.16971425e+00 -9.20547742e-01]\n",
      " [-1.26418478e+00  7.88807586e-01 -1.05603939e+00 -1.31544430e+00]\n",
      " [-1.02184904e+00 -1.31979479e-01 -1.22655167e+00 -1.31544430e+00]\n",
      " [-1.02184904e+00  7.88807586e-01 -1.22655167e+00 -1.05217993e+00]\n",
      " [-7.79513300e-01  1.01900435e+00 -1.28338910e+00 -1.31544430e+00]\n",
      " [-7.79513300e-01  7.88807586e-01 -1.34022653e+00 -1.31544430e+00]\n",
      " [-1.38535265e+00  3.28414053e-01 -1.22655167e+00 -1.31544430e+00]\n",
      " [-1.26418478e+00  9.82172869e-02 -1.22655167e+00 -1.31544430e+00]\n",
      " [-5.37177559e-01  7.88807586e-01 -1.28338910e+00 -1.05217993e+00]\n",
      " [-7.79513300e-01  2.40018495e+00 -1.28338910e+00 -1.44707648e+00]\n",
      " [-4.16009689e-01  2.63038172e+00 -1.34022653e+00 -1.31544430e+00]\n",
      " [-1.14301691e+00  9.82172869e-02 -1.28338910e+00 -1.31544430e+00]\n",
      " [-1.02184904e+00  3.28414053e-01 -1.45390138e+00 -1.31544430e+00]\n",
      " [-4.16009689e-01  1.01900435e+00 -1.39706395e+00 -1.31544430e+00]\n",
      " [-1.14301691e+00  1.24920112e+00 -1.34022653e+00 -1.44707648e+00]\n",
      " [-1.74885626e+00 -1.31979479e-01 -1.39706395e+00 -1.31544430e+00]\n",
      " [-9.00681170e-01  7.88807586e-01 -1.28338910e+00 -1.31544430e+00]\n",
      " [-1.02184904e+00  1.01900435e+00 -1.39706395e+00 -1.18381211e+00]\n",
      " [-1.62768839e+00 -1.74335684e+00 -1.39706395e+00 -1.18381211e+00]\n",
      " [-1.74885626e+00  3.28414053e-01 -1.39706395e+00 -1.31544430e+00]\n",
      " [-1.02184904e+00  1.01900435e+00 -1.22655167e+00 -7.88915558e-01]\n",
      " [-9.00681170e-01  1.70959465e+00 -1.05603939e+00 -1.05217993e+00]\n",
      " [-1.26418478e+00 -1.31979479e-01 -1.34022653e+00 -1.18381211e+00]\n",
      " [-9.00681170e-01  1.70959465e+00 -1.22655167e+00 -1.31544430e+00]\n",
      " [-1.50652052e+00  3.28414053e-01 -1.34022653e+00 -1.31544430e+00]\n",
      " [-6.58345429e-01  1.47939788e+00 -1.28338910e+00 -1.31544430e+00]\n",
      " [-1.02184904e+00  5.58610819e-01 -1.34022653e+00 -1.31544430e+00]\n",
      " [ 1.40150837e+00  3.28414053e-01  5.35408562e-01  2.64141916e-01]\n",
      " [ 6.74501145e-01  3.28414053e-01  4.21733708e-01  3.95774101e-01]\n",
      " [ 1.28034050e+00  9.82172869e-02  6.49083415e-01  3.95774101e-01]\n",
      " [-4.16009689e-01 -1.74335684e+00  1.37546573e-01  1.32509732e-01]\n",
      " [ 7.95669016e-01 -5.92373012e-01  4.78571135e-01  3.95774101e-01]\n",
      " [-1.73673948e-01 -5.92373012e-01  4.21733708e-01  1.32509732e-01]\n",
      " [ 5.53333275e-01  5.58610819e-01  5.35408562e-01  5.27406285e-01]\n",
      " [-1.14301691e+00 -1.51316008e+00 -2.60315415e-01 -2.62386821e-01]\n",
      " [ 9.16836886e-01 -3.62176246e-01  4.78571135e-01  1.32509732e-01]\n",
      " [-7.79513300e-01 -8.22569778e-01  8.07091462e-02  2.64141916e-01]\n",
      " [-1.02184904e+00 -2.43394714e+00 -1.46640561e-01 -2.62386821e-01]\n",
      " [ 6.86617933e-02 -1.31979479e-01  2.51221427e-01  3.95774101e-01]\n",
      " [ 1.89829664e-01 -1.97355361e+00  1.37546573e-01 -2.62386821e-01]\n",
      " [ 3.10997534e-01 -3.62176246e-01  5.35408562e-01  2.64141916e-01]\n",
      " [-2.94841818e-01 -3.62176246e-01 -8.98031345e-02  1.32509732e-01]\n",
      " [ 1.03800476e+00  9.82172869e-02  3.64896281e-01  2.64141916e-01]\n",
      " [-2.94841818e-01 -1.31979479e-01  4.21733708e-01  3.95774101e-01]\n",
      " [-5.25060772e-02 -8.22569778e-01  1.94384000e-01 -2.62386821e-01]\n",
      " [ 4.32165405e-01 -1.97355361e+00  4.21733708e-01  3.95774101e-01]\n",
      " [-2.94841818e-01 -1.28296331e+00  8.07091462e-02 -1.30754636e-01]\n",
      " [ 6.86617933e-02  3.28414053e-01  5.92245988e-01  7.90670654e-01]\n",
      " [ 3.10997534e-01 -5.92373012e-01  1.37546573e-01  1.32509732e-01]\n",
      " [ 5.53333275e-01 -1.28296331e+00  6.49083415e-01  3.95774101e-01]\n",
      " [ 3.10997534e-01 -5.92373012e-01  5.35408562e-01  8.77547895e-04]\n",
      " [ 6.74501145e-01 -3.62176246e-01  3.08058854e-01  1.32509732e-01]\n",
      " [ 9.16836886e-01 -1.31979479e-01  3.64896281e-01  2.64141916e-01]\n",
      " [ 1.15917263e+00 -5.92373012e-01  5.92245988e-01  2.64141916e-01]\n",
      " [ 1.03800476e+00 -1.31979479e-01  7.05920842e-01  6.59038469e-01]\n",
      " [ 1.89829664e-01 -3.62176246e-01  4.21733708e-01  3.95774101e-01]\n",
      " [-1.73673948e-01 -1.05276654e+00 -1.46640561e-01 -2.62386821e-01]\n",
      " [-4.16009689e-01 -1.51316008e+00  2.38717193e-02 -1.30754636e-01]\n",
      " [-4.16009689e-01 -1.51316008e+00 -3.29657076e-02 -2.62386821e-01]\n",
      " [-5.25060772e-02 -8.22569778e-01  8.07091462e-02  8.77547895e-04]\n",
      " [ 1.89829664e-01 -8.22569778e-01  7.62758269e-01  5.27406285e-01]\n",
      " [-5.37177559e-01 -1.31979479e-01  4.21733708e-01  3.95774101e-01]\n",
      " [ 1.89829664e-01  7.88807586e-01  4.21733708e-01  5.27406285e-01]\n",
      " [ 1.03800476e+00  9.82172869e-02  5.35408562e-01  3.95774101e-01]\n",
      " [ 5.53333275e-01 -1.74335684e+00  3.64896281e-01  1.32509732e-01]\n",
      " [-2.94841818e-01 -1.31979479e-01  1.94384000e-01  1.32509732e-01]\n",
      " [-4.16009689e-01 -1.28296331e+00  1.37546573e-01  1.32509732e-01]\n",
      " [-4.16009689e-01 -1.05276654e+00  3.64896281e-01  8.77547895e-04]\n",
      " [ 3.10997534e-01 -1.31979479e-01  4.78571135e-01  2.64141916e-01]\n",
      " [-5.25060772e-02 -1.05276654e+00  1.37546573e-01  8.77547895e-04]\n",
      " [-1.02184904e+00 -1.74335684e+00 -2.60315415e-01 -2.62386821e-01]\n",
      " [-2.94841818e-01 -8.22569778e-01  2.51221427e-01  1.32509732e-01]\n",
      " [-1.73673948e-01 -1.31979479e-01  2.51221427e-01  8.77547895e-04]\n",
      " [-1.73673948e-01 -3.62176246e-01  2.51221427e-01  1.32509732e-01]\n",
      " [ 4.32165405e-01 -3.62176246e-01  3.08058854e-01  1.32509732e-01]\n",
      " [-9.00681170e-01 -1.28296331e+00 -4.30827696e-01 -1.30754636e-01]\n",
      " [-1.73673948e-01 -5.92373012e-01  1.94384000e-01  1.32509732e-01]\n",
      " [ 5.53333275e-01  5.58610819e-01  1.27429511e+00  1.71209594e+00]\n",
      " [-5.25060772e-02 -8.22569778e-01  7.62758269e-01  9.22302838e-01]\n",
      " [ 1.52267624e+00 -1.31979479e-01  1.21745768e+00  1.18556721e+00]\n",
      " [ 5.53333275e-01 -3.62176246e-01  1.04694540e+00  7.90670654e-01]\n",
      " [ 7.95669016e-01 -1.31979479e-01  1.16062026e+00  1.31719939e+00]\n",
      " [ 2.12851559e+00 -1.31979479e-01  1.61531967e+00  1.18556721e+00]\n",
      " [-1.14301691e+00 -1.28296331e+00  4.21733708e-01  6.59038469e-01]\n",
      " [ 1.76501198e+00 -3.62176246e-01  1.44480739e+00  7.90670654e-01]\n",
      " [ 1.03800476e+00 -1.28296331e+00  1.16062026e+00  7.90670654e-01]\n",
      " [ 1.64384411e+00  1.24920112e+00  1.33113254e+00  1.71209594e+00]\n",
      " [ 7.95669016e-01  3.28414053e-01  7.62758269e-01  1.05393502e+00]\n",
      " [ 6.74501145e-01 -8.22569778e-01  8.76433123e-01  9.22302838e-01]\n",
      " [ 1.15917263e+00 -1.31979479e-01  9.90107977e-01  1.18556721e+00]\n",
      " [-1.73673948e-01 -1.28296331e+00  7.05920842e-01  1.05393502e+00]\n",
      " [-5.25060772e-02 -5.92373012e-01  7.62758269e-01  1.58046376e+00]\n",
      " [ 6.74501145e-01  3.28414053e-01  8.76433123e-01  1.44883158e+00]\n",
      " [ 7.95669016e-01 -1.31979479e-01  9.90107977e-01  7.90670654e-01]\n",
      " [ 2.24968346e+00  1.70959465e+00  1.67215710e+00  1.31719939e+00]\n",
      " [ 2.24968346e+00 -1.05276654e+00  1.78583195e+00  1.44883158e+00]\n",
      " [ 1.89829664e-01 -1.97355361e+00  7.05920842e-01  3.95774101e-01]\n",
      " [ 1.28034050e+00  3.28414053e-01  1.10378283e+00  1.44883158e+00]\n",
      " [-2.94841818e-01 -5.92373012e-01  6.49083415e-01  1.05393502e+00]\n",
      " [ 2.24968346e+00 -5.92373012e-01  1.67215710e+00  1.05393502e+00]\n",
      " [ 5.53333275e-01 -8.22569778e-01  6.49083415e-01  7.90670654e-01]\n",
      " [ 1.03800476e+00  5.58610819e-01  1.10378283e+00  1.18556721e+00]\n",
      " [ 1.64384411e+00  3.28414053e-01  1.27429511e+00  7.90670654e-01]\n",
      " [ 4.32165405e-01 -5.92373012e-01  5.92245988e-01  7.90670654e-01]\n",
      " [ 3.10997534e-01 -1.31979479e-01  6.49083415e-01  7.90670654e-01]\n",
      " [ 6.74501145e-01 -5.92373012e-01  1.04694540e+00  1.18556721e+00]\n",
      " [ 1.64384411e+00 -1.31979479e-01  1.16062026e+00  5.27406285e-01]\n",
      " [ 1.88617985e+00 -5.92373012e-01  1.33113254e+00  9.22302838e-01]\n",
      " [ 2.49201920e+00  1.70959465e+00  1.50164482e+00  1.05393502e+00]\n",
      " [ 6.74501145e-01 -5.92373012e-01  1.04694540e+00  1.31719939e+00]\n",
      " [ 5.53333275e-01 -5.92373012e-01  7.62758269e-01  3.95774101e-01]\n",
      " [ 3.10997534e-01 -1.05276654e+00  1.04694540e+00  2.64141916e-01]\n",
      " [ 2.24968346e+00 -1.31979479e-01  1.33113254e+00  1.44883158e+00]\n",
      " [ 5.53333275e-01  7.88807586e-01  1.04694540e+00  1.58046376e+00]\n",
      " [ 6.74501145e-01  9.82172869e-02  9.90107977e-01  7.90670654e-01]\n",
      " [ 1.89829664e-01 -1.31979479e-01  5.92245988e-01  7.90670654e-01]\n",
      " [ 1.28034050e+00  9.82172869e-02  9.33270550e-01  1.18556721e+00]\n",
      " [ 1.03800476e+00  9.82172869e-02  1.04694540e+00  1.58046376e+00]\n",
      " [ 1.28034050e+00  9.82172869e-02  7.62758269e-01  1.44883158e+00]\n",
      " [-5.25060772e-02 -8.22569778e-01  7.62758269e-01  9.22302838e-01]\n",
      " [ 1.15917263e+00  3.28414053e-01  1.21745768e+00  1.44883158e+00]\n",
      " [ 1.03800476e+00  5.58610819e-01  1.10378283e+00  1.71209594e+00]\n",
      " [ 1.03800476e+00 -1.31979479e-01  8.19595696e-01  1.44883158e+00]\n",
      " [ 5.53333275e-01 -1.28296331e+00  7.05920842e-01  9.22302838e-01]\n",
      " [ 7.95669016e-01 -1.31979479e-01  8.19595696e-01  1.05393502e+00]\n",
      " [ 4.32165405e-01  7.88807586e-01  9.33270550e-01  1.44883158e+00]\n",
      " [ 6.86617933e-02 -1.31979479e-01  7.62758269e-01  7.90670654e-01]]\n"
     ]
    }
   ],
   "source": [
    "scaler=StandardScaler()\n",
    "scaler.fit(X)\n",
    "X=scaler.transform(X)\n",
    "print(X)"
   ]
  },
  {
   "cell_type": "code",
   "execution_count": 16,
   "id": "1dffa1bf",
   "metadata": {
    "_cell_guid": "0e897503-4f9b-4130-ae08-946ddda33be7",
    "_uuid": "6763d842-82ba-4eab-b965-a034f9f4ffae",
    "collapsed": false,
    "execution": {
     "iopub.execute_input": "2021-07-19T16:47:20.319238Z",
     "iopub.status.busy": "2021-07-19T16:47:20.318274Z",
     "iopub.status.idle": "2021-07-19T16:47:20.370656Z",
     "shell.execute_reply": "2021-07-19T16:47:20.369439Z",
     "shell.execute_reply.started": "2021-07-19T16:46:43.292492Z"
    },
    "executionInfo": {
     "elapsed": 367,
     "status": "ok",
     "timestamp": 1626707334163,
     "user": {
      "displayName": "Vishal Upare",
      "photoUrl": "https://lh3.googleusercontent.com/a-/AOh14GgoCnqugoir3d64IG6cP2RNp-dOG0Ci9o1v0smkrA=s64",
      "userId": "07603955287254541700"
     },
     "user_tz": -330
    },
    "id": "7KA1ijd0TWHH",
    "jupyter": {
     "outputs_hidden": false
    },
    "papermill": {
     "duration": 0.100955,
     "end_time": "2021-07-19T16:47:20.370804",
     "exception": false,
     "start_time": "2021-07-19T16:47:20.269849",
     "status": "completed"
    },
    "tags": []
   },
   "outputs": [],
   "source": [
    "from sklearn.model_selection import train_test_split"
   ]
  },
  {
   "cell_type": "code",
   "execution_count": 17,
   "id": "69b0e59d",
   "metadata": {
    "_cell_guid": "b8d585c8-8c83-4d77-a386-809f05dd25fe",
    "_uuid": "1ec78afe-88cf-4ec4-b782-14a0aea013ca",
    "collapsed": false,
    "execution": {
     "iopub.execute_input": "2021-07-19T16:47:20.469882Z",
     "iopub.status.busy": "2021-07-19T16:47:20.468999Z",
     "iopub.status.idle": "2021-07-19T16:47:20.472546Z",
     "shell.execute_reply": "2021-07-19T16:47:20.473035Z",
     "shell.execute_reply.started": "2021-07-19T16:46:43.323710Z"
    },
    "executionInfo": {
     "elapsed": 394,
     "status": "ok",
     "timestamp": 1626707557996,
     "user": {
      "displayName": "Vishal Upare",
      "photoUrl": "https://lh3.googleusercontent.com/a-/AOh14GgoCnqugoir3d64IG6cP2RNp-dOG0Ci9o1v0smkrA=s64",
      "userId": "07603955287254541700"
     },
     "user_tz": -330
    },
    "id": "iWJ0FHkeTe87",
    "jupyter": {
     "outputs_hidden": false
    },
    "outputId": "da2379b0-fc24-41a5-bcd1-2ffb35dd6f3e",
    "papermill": {
     "duration": 0.056624,
     "end_time": "2021-07-19T16:47:20.473198",
     "exception": false,
     "start_time": "2021-07-19T16:47:20.416574",
     "status": "completed"
    },
    "tags": []
   },
   "outputs": [
    {
     "name": "stdout",
     "output_type": "stream",
     "text": [
      "(120, 4) (120,) (30, 4) (30,)\n"
     ]
    }
   ],
   "source": [
    "X_train, X_test, Y_train, Y_test= train_test_split(X, Y, test_size=0.2, random_state=10)\n",
    "print(X_train.shape, Y_train.shape, X_test.shape, Y_test.shape)"
   ]
  },
  {
   "cell_type": "markdown",
   "id": "9a7c5bd7",
   "metadata": {
    "_cell_guid": "7b897fb1-f0d1-4a13-8a43-18aef8759cb9",
    "_uuid": "fe0d4f89-ce72-4aa0-bd24-b5a2688e0cd9",
    "papermill": {
     "duration": 0.046516,
     "end_time": "2021-07-19T16:47:20.565817",
     "exception": false,
     "start_time": "2021-07-19T16:47:20.519301",
     "status": "completed"
    },
    "tags": []
   },
   "source": [
    "#### SVM"
   ]
  },
  {
   "cell_type": "code",
   "execution_count": 18,
   "id": "8586d243",
   "metadata": {
    "_cell_guid": "c42281c3-fd05-4a26-aa63-633da3752201",
    "_uuid": "d9be0688-b9d1-4e4d-9f09-4db1eca4f2e5",
    "collapsed": false,
    "execution": {
     "iopub.execute_input": "2021-07-19T16:47:20.663866Z",
     "iopub.status.busy": "2021-07-19T16:47:20.663183Z",
     "iopub.status.idle": "2021-07-19T16:47:20.748649Z",
     "shell.execute_reply": "2021-07-19T16:47:20.748056Z",
     "shell.execute_reply.started": "2021-07-19T16:46:43.336247Z"
    },
    "executionInfo": {
     "elapsed": 346,
     "status": "ok",
     "timestamp": 1626707034501,
     "user": {
      "displayName": "Vishal Upare",
      "photoUrl": "https://lh3.googleusercontent.com/a-/AOh14GgoCnqugoir3d64IG6cP2RNp-dOG0Ci9o1v0smkrA=s64",
      "userId": "07603955287254541700"
     },
     "user_tz": -330
    },
    "id": "KpVKZ4CKR-55",
    "jupyter": {
     "outputs_hidden": false
    },
    "papermill": {
     "duration": 0.136583,
     "end_time": "2021-07-19T16:47:20.748790",
     "exception": false,
     "start_time": "2021-07-19T16:47:20.612207",
     "status": "completed"
    },
    "tags": []
   },
   "outputs": [],
   "source": [
    "from sklearn.svm import SVC\n",
    "from sklearn.metrics import accuracy_score, classification_report, confusion_matrix"
   ]
  },
  {
   "cell_type": "code",
   "execution_count": 19,
   "id": "65817ee6",
   "metadata": {
    "_cell_guid": "28e83464-3390-46a7-94a3-55eab47996a7",
    "_uuid": "2d8f719f-475b-42c6-a0b1-eb75581c3df3",
    "collapsed": false,
    "execution": {
     "iopub.execute_input": "2021-07-19T16:47:20.849489Z",
     "iopub.status.busy": "2021-07-19T16:47:20.848777Z",
     "iopub.status.idle": "2021-07-19T16:47:20.860222Z",
     "shell.execute_reply": "2021-07-19T16:47:20.860740Z",
     "shell.execute_reply.started": "2021-07-19T16:46:43.373367Z"
    },
    "executionInfo": {
     "elapsed": 370,
     "status": "ok",
     "timestamp": 1626707842993,
     "user": {
      "displayName": "Vishal Upare",
      "photoUrl": "https://lh3.googleusercontent.com/a-/AOh14GgoCnqugoir3d64IG6cP2RNp-dOG0Ci9o1v0smkrA=s64",
      "userId": "07603955287254541700"
     },
     "user_tz": -330
    },
    "id": "8cyD0Fo2S10V",
    "jupyter": {
     "outputs_hidden": false
    },
    "outputId": "6b6d3b70-425a-4108-ae56-21701db42420",
    "papermill": {
     "duration": 0.06554,
     "end_time": "2021-07-19T16:47:20.860910",
     "exception": false,
     "start_time": "2021-07-19T16:47:20.795370",
     "status": "completed"
    },
    "tags": []
   },
   "outputs": [
    {
     "name": "stdout",
     "output_type": "stream",
     "text": [
      "Accuracy Score:\n",
      " 0.9666666666666667\n",
      "Confusion Matrix:\n",
      " [[10  0  0]\n",
      " [ 0 12  1]\n",
      " [ 0  0  7]]\n",
      "Classification_report:\n",
      "               precision    recall  f1-score   support\n",
      "\n",
      "           0       1.00      1.00      1.00        10\n",
      "           1       1.00      0.92      0.96        13\n",
      "           2       0.88      1.00      0.93         7\n",
      "\n",
      "    accuracy                           0.97        30\n",
      "   macro avg       0.96      0.97      0.96        30\n",
      "weighted avg       0.97      0.97      0.97        30\n",
      "\n"
     ]
    }
   ],
   "source": [
    "model_svc=SVC(kernel=\"rbf\", C=1, random_state=0)\n",
    "model_svc.fit(X_train, Y_train)\n",
    "SVC_pred=model_svc.predict(X_test)\n",
    "\n",
    "print(\"Accuracy Score:\\n\", accuracy_score(Y_test, SVC_pred))\n",
    "print(\"Confusion Matrix:\\n\", confusion_matrix(Y_test, SVC_pred))\n",
    "print(\"Classification_report:\\n\", classification_report(Y_test, SVC_pred))"
   ]
  },
  {
   "cell_type": "code",
   "execution_count": 20,
   "id": "23912077",
   "metadata": {
    "_cell_guid": "32a685ef-432e-4322-919e-a2b8e9a8a2a0",
    "_uuid": "fd0b8d96-9405-46ae-a6a4-cb82780fe00f",
    "collapsed": false,
    "execution": {
     "iopub.execute_input": "2021-07-19T16:47:20.961016Z",
     "iopub.status.busy": "2021-07-19T16:47:20.960135Z",
     "iopub.status.idle": "2021-07-19T16:47:20.964301Z",
     "shell.execute_reply": "2021-07-19T16:47:20.963695Z",
     "shell.execute_reply.started": "2021-07-19T16:46:43.392110Z"
    },
    "executionInfo": {
     "elapsed": 374,
     "status": "ok",
     "timestamp": 1626709792592,
     "user": {
      "displayName": "Vishal Upare",
      "photoUrl": "https://lh3.googleusercontent.com/a-/AOh14GgoCnqugoir3d64IG6cP2RNp-dOG0Ci9o1v0smkrA=s64",
      "userId": "07603955287254541700"
     },
     "user_tz": -330
    },
    "id": "F2r1IsFZVfLL",
    "jupyter": {
     "outputs_hidden": false
    },
    "outputId": "679e5e66-1ca4-4fb4-b3be-d3cdb3d0b983",
    "papermill": {
     "duration": 0.056937,
     "end_time": "2021-07-19T16:47:20.964453",
     "exception": false,
     "start_time": "2021-07-19T16:47:20.907516",
     "status": "completed"
    },
    "tags": []
   },
   "outputs": [
    {
     "data": {
      "text/plain": [
       "0.9666666666666667"
      ]
     },
     "execution_count": 20,
     "metadata": {},
     "output_type": "execute_result"
    }
   ],
   "source": [
    "model_svc.score(X_test,Y_test)"
   ]
  },
  {
   "cell_type": "markdown",
   "id": "81913cef",
   "metadata": {
    "_cell_guid": "5fb79d0b-c7d8-49ba-8438-069f0188744f",
    "_uuid": "1ac74c3a-62ce-4ab9-8aa6-14caa02ef649",
    "papermill": {
     "duration": 0.046789,
     "end_time": "2021-07-19T16:47:21.058985",
     "exception": false,
     "start_time": "2021-07-19T16:47:21.012196",
     "status": "completed"
    },
    "tags": []
   },
   "source": [
    "#### DecisionTree Classifier"
   ]
  },
  {
   "cell_type": "code",
   "execution_count": 21,
   "id": "0209d7e8",
   "metadata": {
    "_cell_guid": "5407969a-2cff-48b1-b9b1-5a00c8a63cf3",
    "_uuid": "aa065c8f-42b8-494a-a03f-676f06dd4f05",
    "collapsed": false,
    "execution": {
     "iopub.execute_input": "2021-07-19T16:47:21.158720Z",
     "iopub.status.busy": "2021-07-19T16:47:21.157945Z",
     "iopub.status.idle": "2021-07-19T16:47:21.261987Z",
     "shell.execute_reply": "2021-07-19T16:47:21.261332Z",
     "shell.execute_reply.started": "2021-07-19T16:46:43.401986Z"
    },
    "executionInfo": {
     "elapsed": 364,
     "status": "ok",
     "timestamp": 1626709860651,
     "user": {
      "displayName": "Vishal Upare",
      "photoUrl": "https://lh3.googleusercontent.com/a-/AOh14GgoCnqugoir3d64IG6cP2RNp-dOG0Ci9o1v0smkrA=s64",
      "userId": "07603955287254541700"
     },
     "user_tz": -330
    },
    "id": "z6EC5MG6WCwp",
    "jupyter": {
     "outputs_hidden": false
    },
    "papermill": {
     "duration": 0.155588,
     "end_time": "2021-07-19T16:47:21.262132",
     "exception": false,
     "start_time": "2021-07-19T16:47:21.106544",
     "status": "completed"
    },
    "tags": []
   },
   "outputs": [],
   "source": [
    "from sklearn.tree import DecisionTreeClassifier"
   ]
  },
  {
   "cell_type": "code",
   "execution_count": 22,
   "id": "ce629629",
   "metadata": {
    "_cell_guid": "944f6126-2817-41fd-a97c-ec3d4915fb2e",
    "_uuid": "c992056d-b340-43b6-94f4-6418c7e5753a",
    "collapsed": false,
    "execution": {
     "iopub.execute_input": "2021-07-19T16:47:21.367367Z",
     "iopub.status.busy": "2021-07-19T16:47:21.366422Z",
     "iopub.status.idle": "2021-07-19T16:47:21.378394Z",
     "shell.execute_reply": "2021-07-19T16:47:21.378908Z",
     "shell.execute_reply.started": "2021-07-19T16:46:43.435518Z"
    },
    "executionInfo": {
     "elapsed": 450,
     "status": "ok",
     "timestamp": 1626710035299,
     "user": {
      "displayName": "Vishal Upare",
      "photoUrl": "https://lh3.googleusercontent.com/a-/AOh14GgoCnqugoir3d64IG6cP2RNp-dOG0Ci9o1v0smkrA=s64",
      "userId": "07603955287254541700"
     },
     "user_tz": -330
    },
    "id": "neTfGxQddp1e",
    "jupyter": {
     "outputs_hidden": false
    },
    "outputId": "7aca64bc-8202-4df0-f53c-4b522a315a66",
    "papermill": {
     "duration": 0.068274,
     "end_time": "2021-07-19T16:47:21.379080",
     "exception": false,
     "start_time": "2021-07-19T16:47:21.310806",
     "status": "completed"
    },
    "tags": []
   },
   "outputs": [
    {
     "name": "stdout",
     "output_type": "stream",
     "text": [
      "Accuracy Score:\n",
      " 0.9666666666666667\n",
      "Confusion Matrix:\n",
      " [[10  0  0]\n",
      " [ 0 12  1]\n",
      " [ 0  0  7]]\n",
      "Classification_report:\n",
      "               precision    recall  f1-score   support\n",
      "\n",
      "           0       1.00      1.00      1.00        10\n",
      "           1       1.00      0.92      0.96        13\n",
      "           2       0.88      1.00      0.93         7\n",
      "\n",
      "    accuracy                           0.97        30\n",
      "   macro avg       0.96      0.97      0.96        30\n",
      "weighted avg       0.97      0.97      0.97        30\n",
      "\n"
     ]
    }
   ],
   "source": [
    "model_dt=DecisionTreeClassifier(criterion=\"gini\", splitter=\"best\", random_state=10)\n",
    "model_dt.fit(X_train, Y_train)\n",
    "DT_pred=model_dt.predict(X_test)\n",
    "\n",
    "print(\"Accuracy Score:\\n\", accuracy_score(Y_test, DT_pred))\n",
    "print(\"Confusion Matrix:\\n\", confusion_matrix(Y_test, DT_pred))\n",
    "print(\"Classification_report:\\n\", classification_report(Y_test, DT_pred))"
   ]
  },
  {
   "cell_type": "markdown",
   "id": "b8324524",
   "metadata": {
    "_cell_guid": "34c6ef44-3aa9-4f09-8b3a-f1e574b140cb",
    "_uuid": "9ab4f021-1646-4a5a-a24e-364e7319a15e",
    "papermill": {
     "duration": 0.046528,
     "end_time": "2021-07-19T16:47:21.472869",
     "exception": false,
     "start_time": "2021-07-19T16:47:21.426341",
     "status": "completed"
    },
    "tags": []
   },
   "source": [
    "#### ExtraTrees Classifier"
   ]
  },
  {
   "cell_type": "code",
   "execution_count": 23,
   "id": "786f6f25",
   "metadata": {
    "_cell_guid": "6f11c849-1302-4e63-b9f7-a689987b0997",
    "_uuid": "a6b4d186-a599-4afb-81a1-98f1cd3463a3",
    "collapsed": false,
    "execution": {
     "iopub.execute_input": "2021-07-19T16:47:21.571305Z",
     "iopub.status.busy": "2021-07-19T16:47:21.570579Z",
     "iopub.status.idle": "2021-07-19T16:47:21.599972Z",
     "shell.execute_reply": "2021-07-19T16:47:21.599347Z",
     "shell.execute_reply.started": "2021-07-19T16:46:43.456493Z"
    },
    "executionInfo": {
     "elapsed": 390,
     "status": "ok",
     "timestamp": 1626710086485,
     "user": {
      "displayName": "Vishal Upare",
      "photoUrl": "https://lh3.googleusercontent.com/a-/AOh14GgoCnqugoir3d64IG6cP2RNp-dOG0Ci9o1v0smkrA=s64",
      "userId": "07603955287254541700"
     },
     "user_tz": -330
    },
    "id": "myTmbkZweUcV",
    "jupyter": {
     "outputs_hidden": false
    },
    "papermill": {
     "duration": 0.080232,
     "end_time": "2021-07-19T16:47:21.600105",
     "exception": false,
     "start_time": "2021-07-19T16:47:21.519873",
     "status": "completed"
    },
    "tags": []
   },
   "outputs": [],
   "source": [
    "from sklearn.ensemble import ExtraTreesClassifier"
   ]
  },
  {
   "cell_type": "code",
   "execution_count": 24,
   "id": "37d1b121",
   "metadata": {
    "_cell_guid": "24d602f6-68c8-4e29-bca9-a1e830636a92",
    "_uuid": "c88e9c31-9955-4d3e-a30b-bb6cd5e57c8c",
    "collapsed": false,
    "execution": {
     "iopub.execute_input": "2021-07-19T16:47:21.716301Z",
     "iopub.status.busy": "2021-07-19T16:47:21.705667Z",
     "iopub.status.idle": "2021-07-19T16:47:21.851079Z",
     "shell.execute_reply": "2021-07-19T16:47:21.850463Z",
     "shell.execute_reply.started": "2021-07-19T16:46:43.477445Z"
    },
    "executionInfo": {
     "elapsed": 402,
     "status": "ok",
     "timestamp": 1626710201364,
     "user": {
      "displayName": "Vishal Upare",
      "photoUrl": "https://lh3.googleusercontent.com/a-/AOh14GgoCnqugoir3d64IG6cP2RNp-dOG0Ci9o1v0smkrA=s64",
      "userId": "07603955287254541700"
     },
     "user_tz": -330
    },
    "id": "4oVLQ0baeg9u",
    "jupyter": {
     "outputs_hidden": false
    },
    "outputId": "619e00b7-fbd3-4979-cc60-c83b3d8ee917",
    "papermill": {
     "duration": 0.203905,
     "end_time": "2021-07-19T16:47:21.851243",
     "exception": false,
     "start_time": "2021-07-19T16:47:21.647338",
     "status": "completed"
    },
    "tags": []
   },
   "outputs": [
    {
     "name": "stdout",
     "output_type": "stream",
     "text": [
      "Accuracy Score:\n",
      " 0.9666666666666667\n",
      "Confusion Matrix:\n",
      " [[10  0  0]\n",
      " [ 0 12  1]\n",
      " [ 0  0  7]]\n",
      "Classification_report:\n",
      "               precision    recall  f1-score   support\n",
      "\n",
      "           0       1.00      1.00      1.00        10\n",
      "           1       1.00      0.92      0.96        13\n",
      "           2       0.88      1.00      0.93         7\n",
      "\n",
      "    accuracy                           0.97        30\n",
      "   macro avg       0.96      0.97      0.96        30\n",
      "weighted avg       0.97      0.97      0.97        30\n",
      "\n"
     ]
    }
   ],
   "source": [
    "model_et=ExtraTreesClassifier(n_estimators=100, random_state=10)\n",
    "model_et.fit(X_train, Y_train)\n",
    "ET_pred=model_et.predict(X_test)\n",
    "\n",
    "print(\"Accuracy Score:\\n\", accuracy_score(Y_test, ET_pred))\n",
    "print(\"Confusion Matrix:\\n\", confusion_matrix(Y_test, ET_pred))\n",
    "print(\"Classification_report:\\n\", classification_report(Y_test, ET_pred))"
   ]
  },
  {
   "cell_type": "markdown",
   "id": "ff48a2af",
   "metadata": {
    "_cell_guid": "69d361fb-b1b3-4459-a940-c117240cb02d",
    "_uuid": "8b7dfdb1-d367-48a1-94c2-d5d031e08c63",
    "papermill": {
     "duration": 0.047571,
     "end_time": "2021-07-19T16:47:21.946994",
     "exception": false,
     "start_time": "2021-07-19T16:47:21.899423",
     "status": "completed"
    },
    "tags": []
   },
   "source": [
    "#### RandomForest Classifier"
   ]
  },
  {
   "cell_type": "code",
   "execution_count": 25,
   "id": "859ecfd8",
   "metadata": {
    "_cell_guid": "faaadbd7-725c-40d4-84cb-41bf4c66859e",
    "_uuid": "dda7934d-a18b-4b03-9302-2043c2bcbe81",
    "collapsed": false,
    "execution": {
     "iopub.execute_input": "2021-07-19T16:47:22.047188Z",
     "iopub.status.busy": "2021-07-19T16:47:22.046517Z",
     "iopub.status.idle": "2021-07-19T16:47:22.049119Z",
     "shell.execute_reply": "2021-07-19T16:47:22.048563Z",
     "shell.execute_reply.started": "2021-07-19T16:46:43.637957Z"
    },
    "executionInfo": {
     "elapsed": 379,
     "status": "ok",
     "timestamp": 1626710237388,
     "user": {
      "displayName": "Vishal Upare",
      "photoUrl": "https://lh3.googleusercontent.com/a-/AOh14GgoCnqugoir3d64IG6cP2RNp-dOG0Ci9o1v0smkrA=s64",
      "userId": "07603955287254541700"
     },
     "user_tz": -330
    },
    "id": "Wxi4u3KXe4OS",
    "jupyter": {
     "outputs_hidden": false
    },
    "papermill": {
     "duration": 0.054333,
     "end_time": "2021-07-19T16:47:22.049262",
     "exception": false,
     "start_time": "2021-07-19T16:47:21.994929",
     "status": "completed"
    },
    "tags": []
   },
   "outputs": [],
   "source": [
    "from sklearn.ensemble import RandomForestClassifier"
   ]
  },
  {
   "cell_type": "code",
   "execution_count": 26,
   "id": "a828972a",
   "metadata": {
    "_cell_guid": "ace51578-1b35-4fe2-b57e-74de72c77881",
    "_uuid": "31540549-76ea-4618-8820-33b4f23b0fb0",
    "collapsed": false,
    "execution": {
     "iopub.execute_input": "2021-07-19T16:47:22.149219Z",
     "iopub.status.busy": "2021-07-19T16:47:22.148605Z",
     "iopub.status.idle": "2021-07-19T16:47:22.352260Z",
     "shell.execute_reply": "2021-07-19T16:47:22.351735Z",
     "shell.execute_reply.started": "2021-07-19T16:46:43.644573Z"
    },
    "executionInfo": {
     "elapsed": 560,
     "status": "ok",
     "timestamp": 1626710277599,
     "user": {
      "displayName": "Vishal Upare",
      "photoUrl": "https://lh3.googleusercontent.com/a-/AOh14GgoCnqugoir3d64IG6cP2RNp-dOG0Ci9o1v0smkrA=s64",
      "userId": "07603955287254541700"
     },
     "user_tz": -330
    },
    "id": "cQ0ofC07fFzp",
    "jupyter": {
     "outputs_hidden": false
    },
    "outputId": "8d5b0c32-592c-4f5e-b6d9-be3526f5ac28",
    "papermill": {
     "duration": 0.254953,
     "end_time": "2021-07-19T16:47:22.352423",
     "exception": false,
     "start_time": "2021-07-19T16:47:22.097470",
     "status": "completed"
    },
    "tags": []
   },
   "outputs": [
    {
     "name": "stdout",
     "output_type": "stream",
     "text": [
      "Accuracy Score:\n",
      " 1.0\n",
      "Confusion Matrix:\n",
      " [[10  0  0]\n",
      " [ 0 13  0]\n",
      " [ 0  0  7]]\n",
      "Classification_report:\n",
      "               precision    recall  f1-score   support\n",
      "\n",
      "           0       1.00      1.00      1.00        10\n",
      "           1       1.00      1.00      1.00        13\n",
      "           2       1.00      1.00      1.00         7\n",
      "\n",
      "    accuracy                           1.00        30\n",
      "   macro avg       1.00      1.00      1.00        30\n",
      "weighted avg       1.00      1.00      1.00        30\n",
      "\n"
     ]
    }
   ],
   "source": [
    "model_rf=RandomForestClassifier(n_estimators=100, random_state=10)\n",
    "model_rf.fit(X_train, Y_train)\n",
    "RF_pred=model_rf.predict(X_test)\n",
    "\n",
    "print(\"Accuracy Score:\\n\", accuracy_score(Y_test, RF_pred))\n",
    "print(\"Confusion Matrix:\\n\", confusion_matrix(Y_test, RF_pred))\n",
    "print(\"Classification_report:\\n\", classification_report(Y_test, RF_pred))"
   ]
  },
  {
   "cell_type": "code",
   "execution_count": null,
   "id": "cb788632",
   "metadata": {
    "_cell_guid": "6ccfa529-e639-4ce2-8c68-42439a05d160",
    "_uuid": "292c4561-6e56-463a-8d7a-50b040e45cfa",
    "collapsed": false,
    "id": "0xPIefqbfPjv",
    "jupyter": {
     "outputs_hidden": false
    },
    "papermill": {
     "duration": 0.048103,
     "end_time": "2021-07-19T16:47:22.449091",
     "exception": false,
     "start_time": "2021-07-19T16:47:22.400988",
     "status": "completed"
    },
    "tags": []
   },
   "outputs": [],
   "source": []
  }
 ],
 "metadata": {
  "kernelspec": {
   "display_name": "Python 3",
   "language": "python",
   "name": "python3"
  },
  "language_info": {
   "codemirror_mode": {
    "name": "ipython",
    "version": 3
   },
   "file_extension": ".py",
   "mimetype": "text/x-python",
   "name": "python",
   "nbconvert_exporter": "python",
   "pygments_lexer": "ipython3",
   "version": "3.7.10"
  },
  "papermill": {
   "default_parameters": {},
   "duration": 22.864088,
   "end_time": "2021-07-19T16:47:24.117900",
   "environment_variables": {},
   "exception": null,
   "input_path": "__notebook__.ipynb",
   "output_path": "__notebook__.ipynb",
   "parameters": {},
   "start_time": "2021-07-19T16:47:01.253812",
   "version": "2.3.3"
  }
 },
 "nbformat": 4,
 "nbformat_minor": 5
}
